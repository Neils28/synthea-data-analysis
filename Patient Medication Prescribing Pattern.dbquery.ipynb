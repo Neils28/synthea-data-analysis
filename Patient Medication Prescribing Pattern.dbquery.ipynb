{
 "cells": [
  {
   "cell_type": "code",
   "execution_count": 0,
   "metadata": {
    "application/vnd.databricks.v1+cell": {
     "cellMetadata": {},
     "inputWidgets": {},
     "nuid": "cd622a2f-625d-4d2c-8dc5-0d5e5224a2ac",
     "showTitle": false,
     "tableResultSettingsMap": {},
     "title": ""
    }
   },
   "outputs": [],
   "source": [
    "-- 10 Medications that are prescribed most often and for what conditions\n",
    "SELECT m.description AS medication, COUNT(*) AS medication_prescribed\n",
    "FROM medications m\n",
    "GROUP BY m.description\n",
    "ORDER BY medication_prescribed DESC\n",
    "LIMIT 10;"
   ]
  }
 ],
 "metadata": {
  "application/vnd.databricks.v1+notebook": {
   "computePreferences": null,
   "dashboards": [],
   "environmentMetadata": null,
   "inputWidgetPreferences": null,
   "language": "sql",
   "notebookMetadata": {
    "sqlQueryOptions": {
     "applyAutoLimit": true,
     "catalog": "workspace",
     "schema": "default"
    }
   },
   "notebookName": "Patient Medication Prescribing Pattern.dbquery.ipynb",
   "widgets": {}
  },
  "language_info": {
   "name": "sql"
  }
 },
 "nbformat": 4,
 "nbformat_minor": 0
}
