{
 "cells": [
  {
   "cell_type": "code",
   "execution_count": 0,
   "metadata": {
    "application/vnd.databricks.v1+cell": {
     "cellMetadata": {},
     "inputWidgets": {},
     "nuid": "14d435b9-129d-48dc-99c6-a08b132de9d0",
     "showTitle": false,
     "tableResultSettingsMap": {},
     "title": ""
    }
   },
   "outputs": [],
   "source": [
    "--5 most common reasons for hospital admissions for patients over the age of 55\n",
    "SELECT c.description, COUNT(*) AS frequency_conditions\n",
    "FROM conditions c \n",
    "JOIN patients p ON c.patient = p.id\n",
    "WHERE p.birthdate <= date_sub(current_date(), 55 * 365) \n",
    "GROUP BY c.description\n",
    "ORDER BY frequency_conditions DESC\n",
    "LIMIT 5;\n"
   ]
  }
 ],
 "metadata": {
  "application/vnd.databricks.v1+notebook": {
   "computePreferences": null,
   "dashboards": [],
   "environmentMetadata": null,
   "inputWidgetPreferences": null,
   "language": "sql",
   "notebookMetadata": {
    "sqlQueryOptions": {
     "applyAutoLimit": true,
     "catalog": "workspace",
     "schema": "default"
    }
   },
   "notebookName": "Patients over 55 (Top 5 conditions).dbquery.ipynb",
   "widgets": {}
  },
  "language_info": {
   "name": "sql"
  }
 },
 "nbformat": 4,
 "nbformat_minor": 0
}
