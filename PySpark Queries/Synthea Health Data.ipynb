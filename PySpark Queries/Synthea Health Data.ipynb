{
 "cells": [
  {
   "cell_type": "code",
   "execution_count": 0,
   "metadata": {
    "application/vnd.databricks.v1+cell": {
     "cellMetadata": {
      "byteLimit": 2048000,
      "rowLimit": 10000
     },
     "inputWidgets": {},
     "nuid": "15e114d2-d7da-4c5d-953f-8ad270b81ea2",
     "showTitle": false,
     "tableResultSettingsMap": {},
     "title": ""
    }
   },
   "outputs": [],
   "source": [
    "#Creating Tables variables\n",
    "patients    = spark.table(\"workspace.default.patients\")\n",
    "conditions  = spark.table(\"workspace.default.conditions\")\n",
    "encounters  = spark.table(\"workspace.default.encounters\")\n",
    "medications = spark.table(\"workspace.default.medications\")\n",
    "procedures  = spark.table(\"workspace.default.procedures\")\n",
    "allergies   = spark.table(\"workspace.default.allergies\")\n",
    "providers   = spark.table(\"workspace.default.providers\")\n",
    "\n"
   ]
  },
  {
   "cell_type": "code",
   "execution_count": 0,
   "metadata": {
    "application/vnd.databricks.v1+cell": {
     "cellMetadata": {
      "byteLimit": 2048000,
      "rowLimit": 10000
     },
     "inputWidgets": {},
     "nuid": "516ecdf5-c135-44cb-ab45-c55e97438c25",
     "showTitle": false,
     "tableResultSettingsMap": {},
     "title": ""
    }
   },
   "outputs": [],
   "source": [
    "#Group patients by gender \n",
    "patients.groupBy(\"gender\").count().show()\n",
    "\n",
    "\n"
   ]
  },
  {
   "cell_type": "code",
   "execution_count": 0,
   "metadata": {
    "application/vnd.databricks.v1+cell": {
     "cellMetadata": {
      "byteLimit": 2048000,
      "rowLimit": 10000
     },
     "inputWidgets": {},
     "nuid": "02ddfe50-39f7-48cc-bbc2-aa54b63d7447",
     "showTitle": false,
     "tableResultSettingsMap": {},
     "title": ""
    }
   },
   "outputs": [],
   "source": [
    "\"\"\"\n",
    "Longitudinal patient history\n",
    "    1.)Condition Diagnosis \n",
    "    2.)Provider Encounter\n",
    "    3.)Medication Prescription\n",
    "\"\"\"\n",
    "from pyspark.sql.functions import col, lit, row_number, to_date\n",
    "from pyspark.sql.window import Window\n",
    "\n",
    "# Define a window for ordering patient events chronologically\n",
    "windowSpec = Window.partitionBy(\"patient\").orderBy(\"start\")\n",
    "\n",
    "# Standardize each table with consistent columns\n",
    "conditions_df = conditions.select(\n",
    "    col(\"patient\"),\n",
    "    col(\"start\"),\n",
    "    col(\"description\").alias(\"event_description\"),\n",
    "    lit(\"condition\").alias(\"event_type\")\n",
    ")\n",
    "\n",
    "encounters_df = encounters.select(\n",
    "    col(\"patient\"),\n",
    "    col(\"start\"),\n",
    "    col(\"encounterclass\").alias(\"event_description\"),\n",
    "    lit(\"encounter\").alias(\"event_type\")\n",
    ")\n",
    "\n",
    "medications_df = medications.select(\n",
    "    col(\"patient\"),\n",
    "    col(\"start\"),\n",
    "    col(\"description\").alias(\"event_description\"),\n",
    "    lit(\"medication\").alias(\"event_type\")\n",
    ")\n",
    "\n",
    "# Combine all into a unified timeline\n",
    "events_df = conditions_df.unionByName(encounters_df).unionByName(medications_df)\n",
    "\n",
    "# Add row number for sequence tracking per patient\n",
    "patient_history_df = events_df.withColumn(\n",
    "    \"event_order\",\n",
    "    row_number().over(windowSpec)\n",
    ").select(\n",
    "    col(\"patient\"),\n",
    "    to_date(\"start\").alias(\"event_date\"),\n",
    "    \"event_type\",\n",
    "    \"event_description\",\n",
    "    \"event_order\"\n",
    ").orderBy(\"patient\", \"event_order\")\n",
    "\n",
    "# Show results\n",
    "patient_history_df.show(truncate=False)\n"
   ]
  }
 ],
 "metadata": {
  "application/vnd.databricks.v1+notebook": {
   "computePreferences": null,
   "dashboards": [],
   "environmentMetadata": {
    "base_environment": "",
    "environment_version": "2"
   },
   "inputWidgetPreferences": null,
   "language": "python",
   "notebookMetadata": {
    "pythonIndentUnit": 4
   },
   "notebookName": "Synthea Health Data",
   "widgets": {}
  },
  "language_info": {
   "name": "python"
  }
 },
 "nbformat": 4,
 "nbformat_minor": 0
}
